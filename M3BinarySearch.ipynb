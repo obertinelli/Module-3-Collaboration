{
 "cells": [
  {
   "cell_type": "code",
   "execution_count": 4,
   "id": "e1577e98-c6d1-44e0-9538-2d6f65deb673",
   "metadata": {},
   "outputs": [
    {
     "name": "stdout",
     "output_type": "stream",
     "text": [
      "Element 5 is present at index 4\n"
     ]
    }
   ],
   "source": [
    "class Solution:\n",
    "    def binarySearch(self, arr, k):\n",
    "        low = 0\n",
    "        high = len(arr) - 1\n",
    "        \n",
    "        while low <= high:\n",
    "            mid = (low + high) // 2\n",
    "            \n",
    "            if arr[mid] == k:\n",
    "                return mid\n",
    "            \n",
    "            elif arr[mid] < k:\n",
    "                low = mid + 1\n",
    "            \n",
    "            else:\n",
    "                high = mid - 1\n",
    "        \n",
    "        return -1\n",
    "\n",
    "arr = [1, 2, 3, 4, 5, 6, 7, 8, 9]\n",
    "k = 5\n",
    "solution = Solution()\n",
    "position = solution.binarySearch(arr, k)\n",
    "\n",
    "if position != -1:\n",
    "    print(f\"Element {k} is present at index {position}\")\n",
    "else:\n",
    "    print(f\"Element {k} is not present in the array\")"
   ]
  },
  {
   "cell_type": "code",
   "execution_count": null,
   "id": "a2b97af2-299f-44b4-8a90-8c08357c5a13",
   "metadata": {},
   "outputs": [],
   "source": []
  }
 ],
 "metadata": {
  "kernelspec": {
   "display_name": "Python 3 (ipykernel)",
   "language": "python",
   "name": "python3"
  },
  "language_info": {
   "codemirror_mode": {
    "name": "ipython",
    "version": 3
   },
   "file_extension": ".py",
   "mimetype": "text/x-python",
   "name": "python",
   "nbconvert_exporter": "python",
   "pygments_lexer": "ipython3",
   "version": "3.12.4"
  }
 },
 "nbformat": 4,
 "nbformat_minor": 5
}
