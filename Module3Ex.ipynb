{
 "cells": [
  {
   "cell_type": "code",
   "execution_count": 1,
   "id": "ae981868-b761-4cf2-89f4-a7825f8f51e5",
   "metadata": {},
   "outputs": [],
   "source": [
    "# Olivia Bertinelli\n",
    "# Module 3 Case study: Lists, Functions, and Classes\n",
    "# This program is intended to store information about the user's car and output the data in an easy-to-read format"
   ]
  },
  {
   "cell_type": "code",
   "execution_count": null,
   "id": "7740b0db-3f62-4ef1-8acf-12d7ac6d8c7c",
   "metadata": {},
   "outputs": [],
   "source": [
    "class Vehicle:   # Stores the type of vehicle\n",
    "    def __init__(self, vehicle_type):\n",
    "        self.vehicle_type = vehicle_type\n",
    "\n",
    "\n",
    "class Automobile(Vehicle):  # Stores vehicle details\n",
    "    def __init__(self, year, make, model, doors, roof):\n",
    "        super().__init__(\"car\")\n",
    "        self.year = year\n",
    "        self.make = make\n",
    "        self.model = model\n",
    "        self.doors = doors\n",
    "        self.roof = roof\n",
    "\n",
    "\n",
    "def main():  # Accepts input for vehicle details\n",
    "    vehicle_type = input(\"Enter vehicle type (car, truck, plane, broomstick, etc): \")\n",
    "    year = input(\"Enter vehicle year: \")\n",
    "    make = input(\"Enter vehicle make: \")\n",
    "    model = input(\"Enter vehicle model: \")\n",
    "    doors = int(input(\"Enter doors (2 or 4): \"))\n",
    "    roof = input(\"Enter roof type (solid or sunroof): \")\n",
    "\n",
    "    car = Automobile(year, make, model, doors, roof)   # Creating the instance of Automobile that has the user input\n",
    "    print(\"\\nCar Details:\")   # Prints car details that user has input\n",
    "    print(f\"  Vehicle type: {car.vehicle_type}\")\n",
    "    print(f\"  Year: {car.year}\")\n",
    "    print(f\"  Make: {car.make}\")\n",
    "    print(f\"  Model: {car.model}\")\n",
    "    print(f\"  Number of doors: {car.doors}\")\n",
    "    print(f\"  Type of roof: {car.roof}\")\n",
    "\n",
    "\n",
    "if __name__ == \"__main__\":  # Runs the program\n",
    "    main()"
   ]
  },
  {
   "cell_type": "code",
   "execution_count": null,
   "id": "78aadc23-efa9-495e-a6be-5a3087bdda5b",
   "metadata": {},
   "outputs": [],
   "source": []
  }
 ],
 "metadata": {
  "kernelspec": {
   "display_name": "Python 3 (ipykernel)",
   "language": "python",
   "name": "python3"
  },
  "language_info": {
   "codemirror_mode": {
    "name": "ipython",
    "version": 3
   },
   "file_extension": ".py",
   "mimetype": "text/x-python",
   "name": "python",
   "nbconvert_exporter": "python",
   "pygments_lexer": "ipython3",
   "version": "3.12.4"
  }
 },
 "nbformat": 4,
 "nbformat_minor": 5
}
